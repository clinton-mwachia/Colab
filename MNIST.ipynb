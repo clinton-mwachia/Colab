{
  "nbformat": 4,
  "nbformat_minor": 0,
  "metadata": {
    "colab": {
      "name": "MNIST.ipynb",
      "provenance": [],
      "collapsed_sections": []
    },
    "kernelspec": {
      "name": "python3",
      "display_name": "Python 3"
    },
    "accelerator": "GPU"
  },
  "cells": [
    {
      "cell_type": "code",
      "metadata": {
        "id": "rrOdYBn0pyDi",
        "colab_type": "code",
        "colab": {
          "base_uri": "https://localhost:8080/",
          "height": 34
        },
        "outputId": "6fee1958-3ac5-43d9-b8ab-6fb6da757e12"
      },
      "source": [
        "from __future__ import print_function, absolute_import\n",
        "\n",
        "try:\n",
        "  %tensorflow_version 2.x\n",
        "except Exception:\n",
        "  pass\n",
        "\n",
        "import numpy as np\n",
        "import tensorflow as tf\n",
        "from tensorflow import keras\n",
        "import tensorflow_datasets as tfds\n",
        "np.random.seed(1234)\n",
        "\n",
        "print(tf.__version__)"
      ],
      "execution_count": 99,
      "outputs": [
        {
          "output_type": "stream",
          "text": [
            "2.1.0-rc1\n"
          ],
          "name": "stdout"
        }
      ]
    },
    {
      "cell_type": "code",
      "metadata": {
        "id": "-gO70dWFqj0U",
        "colab_type": "code",
        "colab": {}
      },
      "source": [
        "from keras.utils import np_utils\n",
        "from keras import backend as k"
      ],
      "execution_count": 0,
      "outputs": []
    },
    {
      "cell_type": "code",
      "metadata": {
        "id": "NbQwrMBP-mJj",
        "colab_type": "code",
        "colab": {}
      },
      "source": [
        "mnist = keras.datasets.mnist"
      ],
      "execution_count": 0,
      "outputs": []
    },
    {
      "cell_type": "code",
      "metadata": {
        "id": "Ss0xQutXBqmE",
        "colab_type": "code",
        "colab": {}
      },
      "source": [
        "(X_train, y_train), (X_test, y_test) = mnist.load_data()"
      ],
      "execution_count": 0,
      "outputs": []
    },
    {
      "cell_type": "code",
      "metadata": {
        "id": "-Dfa82V8FC1j",
        "colab_type": "code",
        "colab": {}
      },
      "source": [
        "import matplotlib.pyplot as plt"
      ],
      "execution_count": 0,
      "outputs": []
    },
    {
      "cell_type": "code",
      "metadata": {
        "id": "oLH8hIm6GVdT",
        "colab_type": "code",
        "colab": {
          "base_uri": "https://localhost:8080/",
          "height": 481
        },
        "outputId": "cb0ae53d-78a3-49d5-f241-c6c547c1efbe"
      },
      "source": [
        "plt.figure(figsize=(10,10))\n",
        "for j in range(20):\n",
        "  plt.subplot(5,5,j+1)\n",
        "  plt.xticks([])\n",
        "  plt.yticks([])\n",
        "  plt.imshow(X_train[j], cmap=plt.cm.binary)\n",
        "  plt.xlabel(y_train[j], color = 'white', fontsize=15)\n",
        "plt.show()"
      ],
      "execution_count": 125,
      "outputs": [
        {
          "output_type": "display_data",
          "data": {
            "image/png": "[encoded data removed]",
            "text/plain": [
              "<Figure size 720x720 with 20 Axes>"
            ]
          },
          "metadata": {
            "tags": []
          }
        }
      ]
    },
    {
      "cell_type": "code",
      "metadata": {
        "id": "5YUZ54xBCjNS",
        "colab_type": "code",
        "colab": {
          "base_uri": "https://localhost:8080/",
          "height": 51
        },
        "outputId": "339e698e-4254-487e-f62a-b856658aea0a"
      },
      "source": [
        "print('train mnist data set:',X_train.shape)\n",
        "print('test mnist data set:',X_test.shape)"
      ],
      "execution_count": 105,
      "outputs": [
        {
          "output_type": "stream",
          "text": [
            "train mnist data set: (60000, 28, 28)\n",
            "test mnist data set: (10000, 28, 28)\n"
          ],
          "name": "stdout"
        }
      ]
    },
    {
      "cell_type": "code",
      "metadata": {
        "id": "tasszGz5K_QH",
        "colab_type": "code",
        "colab": {
          "base_uri": "https://localhost:8080/",
          "height": 85
        },
        "outputId": "ec6b7330-887c-4008-8572-333607780d14"
      },
      "source": [
        "# preprocess data\n",
        "# reshaping into 28,28,1\n",
        "X_train = X_train.reshape(X_train.shape[0],28,28,1)\n",
        "X_test = X_test.reshape(X_test.shape[0],28,28,1)\n",
        "\n",
        "print('train mnist data set after reshape:',X_train.shape)\n",
        "print('test mnist data set after reshape:',X_test.shape)\n",
        "\n",
        "print('max value:',np.max(X_train))\n",
        "print('min value:', np.min(X_train))\n"
      ],
      "execution_count": 130,
      "outputs": [
        {
          "output_type": "stream",
          "text": [
            "train mnist data set after reshape: (60000, 28, 28, 1)\n",
            "test mnist data set after reshape: (10000, 28, 28, 1)\n",
            "max value: 255.0\n",
            "min value: 0.0\n"
          ],
          "name": "stdout"
        }
      ]
    },
    {
      "cell_type": "code",
      "metadata": {
        "id": "8ScV8MJJMA1h",
        "colab_type": "code",
        "colab": {}
      },
      "source": [
        "# preproces\n",
        "#X_train = X_train / 255.0\n",
        "#X_test = X_test / 255.0\n",
        "\n",
        "#print('max value after:',np.max(X_train))\n",
        "#print('min value after:', np.min(X_train))"
      ],
      "execution_count": 0,
      "outputs": []
    },
    {
      "cell_type": "code",
      "metadata": {
        "id": "uPZyyNr0PMV8",
        "colab_type": "code",
        "colab": {}
      },
      "source": [
        "# z score normalization\n",
        "X_train = X_train.astype('float32')\n",
        "X_train = X_train.astype('float32')\n",
        "\n",
        "print('train images shape after reshape:', X_train.shape)\n",
        "print('test images shape after reshape:', X_test.shape)\n",
        "# Z-Score nomalization\n",
        "# defining a function\n",
        "def z_norm(data):\n",
        "  data = data - np.mean(data) / data.std()\n",
        "  return data\n",
        "\n",
        "z_norm(X_train)\n",
        "z_norm(X_test)"
      ],
      "execution_count": 0,
      "outputs": []
    },
    {
      "cell_type": "code",
      "metadata": {
        "id": "GrLQDDVJRTHh",
        "colab_type": "code",
        "colab": {
          "base_uri": "https://localhost:8080/",
          "height": 34
        },
        "outputId": "91889eca-b54b-47ba-9a2e-5a530c1b9132"
      },
      "source": [
        "# a function to convert y to categorical\n",
        "def to_categorical(y):\n",
        "  y = np_utils.to_categorical(y)\n",
        "  num_classes = y.shape[1]\n",
        "  return num_classes\n",
        "\n",
        "to_categorical(y_train)\n",
        "to_categorical(y_test)"
      ],
      "execution_count": 128,
      "outputs": [
        {
          "output_type": "execute_result",
          "data": {
            "text/plain": [
              "10"
            ]
          },
          "metadata": {
            "tags": []
          },
          "execution_count": 128
        }
      ]
    },
    {
      "cell_type": "code",
      "metadata": {
        "id": "FHzdMn6wSF2z",
        "colab_type": "code",
        "colab": {}
      },
      "source": [
        "# defining the model\n",
        "model = tf.keras.Sequential([\n",
        "         tf.keras.layers.Conv2D(filters=32, kernel_size=(5,5), input_shape=(28,28,1), activation='relu'),\n",
        "         tf.keras.layers.MaxPooling2D(pool_size=(2,2)),\n",
        "         tf.keras.layers.Dropout(0.3),\n",
        "         tf.keras.layers.Flatten(),\n",
        "         tf.keras.layers.Dense(240, activation='relu'),\n",
        "         tf.keras.layers.Dense(10, activation='softmax')           \n",
        "])"
      ],
      "execution_count": 0,
      "outputs": []
    },
    {
      "cell_type": "code",
      "metadata": {
        "id": "bi-YL3gyUTG0",
        "colab_type": "code",
        "colab": {
          "base_uri": "https://localhost:8080/",
          "height": 357
        },
        "outputId": "5af471d0-9001-4313-a5e7-e8e3142f9366"
      },
      "source": [
        "model.summary()"
      ],
      "execution_count": 133,
      "outputs": [
        {
          "output_type": "stream",
          "text": [
            "Model: \"sequential_6\"\n",
            "_________________________________________________________________\n",
            "Layer (type)                 Output Shape              Param #   \n",
            "=================================================================\n",
            "conv2d_6 (Conv2D)            (None, 24, 24, 32)        832       \n",
            "_________________________________________________________________\n",
            "max_pooling2d_6 (MaxPooling2 (None, 12, 12, 32)        0         \n",
            "_________________________________________________________________\n",
            "dropout_6 (Dropout)          (None, 12, 12, 32)        0         \n",
            "_________________________________________________________________\n",
            "flatten_6 (Flatten)          (None, 4608)              0         \n",
            "_________________________________________________________________\n",
            "dense_12 (Dense)             (None, 240)               1106160   \n",
            "_________________________________________________________________\n",
            "dense_13 (Dense)             (None, 10)                2410      \n",
            "=================================================================\n",
            "Total params: 1,109,402\n",
            "Trainable params: 1,109,402\n",
            "Non-trainable params: 0\n",
            "_________________________________________________________________\n"
          ],
          "name": "stdout"
        }
      ]
    },
    {
      "cell_type": "code",
      "metadata": {
        "id": "Gqu1_pEeUdhO",
        "colab_type": "code",
        "colab": {}
      },
      "source": [
        "model.compile(optimizer='adagrad', loss='sparse_categorical_crossentropy', metrics=['accuracy'])"
      ],
      "execution_count": 0,
      "outputs": []
    },
    {
      "cell_type": "code",
      "metadata": {
        "id": "CfsGIfaKU_vM",
        "colab_type": "code",
        "colab": {}
      },
      "source": [
        "history = model.fit(x=X_train, y=y_train, verbose=0, epochs=5, batch_size=100)"
      ],
      "execution_count": 0,
      "outputs": []
    },
    {
      "cell_type": "code",
      "metadata": {
        "id": "jZ8NOh3IXDL4",
        "colab_type": "code",
        "colab": {
          "base_uri": "https://localhost:8080/",
          "height": 119
        },
        "outputId": "2d182cc3-bfa5-494c-aaff-407973cfc480"
      },
      "source": [
        "history.history"
      ],
      "execution_count": 140,
      "outputs": [
        {
          "output_type": "execute_result",
          "data": {
            "text/plain": [
              "{'accuracy': [0.9399667, 0.9432333, 0.9468333, 0.94915, 0.9518],\n",
              " 'loss': [0.32989506939115626,\n",
              "  0.2984774397375683,\n",
              "  0.26631692913516114,\n",
              "  0.2445731256281336,\n",
              "  0.22517630482790993]}"
            ]
          },
          "metadata": {
            "tags": []
          },
          "execution_count": 140
        }
      ]
    },
    {
      "cell_type": "code",
      "metadata": {
        "id": "kWJt6xLYXKOs",
        "colab_type": "code",
        "colab": {
          "base_uri": "https://localhost:8080/",
          "height": 34
        },
        "outputId": "64436720-7f88-4983-dfa3-ef0e16392079"
      },
      "source": [
        "model.evaluate(X_test, y_test, verbose=0)"
      ],
      "execution_count": 141,
      "outputs": [
        {
          "output_type": "execute_result",
          "data": {
            "text/plain": [
              "[0.109152764561004, 0.9739]"
            ]
          },
          "metadata": {
            "tags": []
          },
          "execution_count": 141
        }
      ]
    }
  ]
}